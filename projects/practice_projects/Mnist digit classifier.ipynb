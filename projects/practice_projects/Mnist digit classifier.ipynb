{
 "cells": [
  {
   "cell_type": "code",
   "execution_count": 1,
   "metadata": {},
   "outputs": [
    {
     "name": "stderr",
     "output_type": "stream",
     "text": [
      "Using TensorFlow backend.\n"
     ]
    }
   ],
   "source": [
    "# Imports\n",
    "import numpy as np\n",
    "import keras\n",
    "from keras.callbacks import ModelCheckpoint\n",
    "from keras.models import Sequential\n",
    "from keras.layers import Dense, Dropout, Activation, Flatten\n",
    "from keras.optimizers import SGD, RMSprop\n",
    "import matplotlib.pyplot as plt\n",
    "import matplotlib.cm as cm\n",
    "%matplotlib inline"
   ]
  },
  {
   "cell_type": "code",
   "execution_count": 2,
   "metadata": {},
   "outputs": [],
   "source": [
    "def plot_learning_curves(history, epochs=200, y_min=0):\n",
    "    plt.figure(1)\n",
    "    plt.subplot(211)\n",
    "    plt.plot(history.history['val_loss'], label='Val Loss')\n",
    "    plt.plot(history.history['loss'], label='Training Loss')\n",
    "    plt.legend()\n",
    "    plt.xlim(0, epochs)\n",
    "    plt.ylim(y_min, 1)\n",
    "#     plt.figure(2)\n",
    "    plt.subplot(212)\n",
    "    plt.plot(history.history['val_acc'], label='Val Accuracy')\n",
    "    plt.plot(history.history['acc'], label = 'Training Accuracy')\n",
    "    plt.legend()\n",
    "    plt.xlim(0, epochs)\n",
    "    plt.ylim(y_min, 1)"
   ]
  },
  {
   "cell_type": "code",
   "execution_count": 3,
   "metadata": {},
   "outputs": [],
   "source": [
    "(x_train, y_train), (x_test, y_test) = keras.datasets.mnist.load_data()"
   ]
  },
  {
   "cell_type": "code",
   "execution_count": 4,
   "metadata": {},
   "outputs": [
    {
     "data": {
      "text/plain": [
       "<matplotlib.image.AxesImage at 0x11e6d1f98>"
      ]
     },
     "execution_count": 4,
     "metadata": {},
     "output_type": "execute_result"
    },
    {
     "data": {
      "image/png": "[encoded data removed]",
      "text/plain": [
       "<matplotlib.figure.Figure at 0x11b1a7748>"
      ]
     },
     "metadata": {},
     "output_type": "display_data"
    }
   ],
   "source": [
    "plt.imshow(x_train[100], cmap='gray')"
   ]
  },
  {
   "cell_type": "code",
   "execution_count": 5,
   "metadata": {},
   "outputs": [],
   "source": [
    "def to_one_hot(array):\n",
    "    num_unique = np.unique(array).shape[0]\n",
    "    one_hot_array = np.zeros((array.shape[0], num_unique))\n",
    "    one_hot_array[np.arange(array.shape[0]), array] = 1\n",
    "    return one_hot_array\n",
    "\n",
    "y_test = to_one_hot(y_test)\n",
    "y_train = to_one_hot(y_train)"
   ]
  },
  {
   "cell_type": "code",
   "execution_count": 6,
   "metadata": {},
   "outputs": [],
   "source": [
    "def normalize_features(array):\n",
    "    return array / 255.0\n",
    "\n",
    "\n",
    "def denormalize_features(array):\n",
    "    return (np.round(array * 255)).astype(int)"
   ]
  },
  {
   "cell_type": "code",
   "execution_count": 7,
   "metadata": {},
   "outputs": [],
   "source": [
    "from keras.layers import Conv3D"
   ]
  },
  {
   "cell_type": "code",
   "execution_count": 8,
   "metadata": {},
   "outputs": [
    {
     "name": "stdout",
     "output_type": "stream",
     "text": [
      "Train on 48000 samples, validate on 12000 samples\n",
      "Epoch 1/10\n",
      "47300/48000 [============================>.] - ETA: 0s - loss: 0.4165 - acc: 0.8818Epoch 00000: val_loss improved from inf to 0.20809, saving model to mnist.model.best.hdf5\n",
      "48000/48000 [==============================] - 2s - loss: 0.4140 - acc: 0.8825 - val_loss: 0.2081 - val_acc: 0.9424\n",
      "Epoch 2/10\n",
      "47600/48000 [============================>.] - ETA: 0s - loss: 0.2139 - acc: 0.9388Epoch 00001: val_loss improved from 0.20809 to 0.15358, saving model to mnist.model.best.hdf5\n",
      "48000/48000 [==============================] - 2s - loss: 0.2136 - acc: 0.9390 - val_loss: 0.1536 - val_acc: 0.9553\n",
      "Epoch 3/10\n",
      "47400/48000 [============================>.] - ETA: 0s - loss: 0.1658 - acc: 0.9519Epoch 00002: val_loss improved from 0.15358 to 0.12821, saving model to mnist.model.best.hdf5\n",
      "48000/48000 [==============================] - 2s - loss: 0.1651 - acc: 0.9521 - val_loss: 0.1282 - val_acc: 0.9640\n",
      "Epoch 4/10\n",
      "47700/48000 [============================>.] - ETA: 0s - loss: 0.1383 - acc: 0.9590Epoch 00003: val_loss improved from 0.12821 to 0.11627, saving model to mnist.model.best.hdf5\n",
      "48000/48000 [==============================] - 2s - loss: 0.1384 - acc: 0.9589 - val_loss: 0.1163 - val_acc: 0.9671\n",
      "Epoch 5/10\n",
      "46900/48000 [============================>.] - ETA: 0s - loss: 0.1191 - acc: 0.9652Epoch 00004: val_loss improved from 0.11627 to 0.10677, saving model to mnist.model.best.hdf5\n",
      "48000/48000 [==============================] - 2s - loss: 0.1198 - acc: 0.9651 - val_loss: 0.1068 - val_acc: 0.9688\n",
      "Epoch 6/10\n",
      "47800/48000 [============================>.] - ETA: 0s - loss: 0.1080 - acc: 0.9675Epoch 00005: val_loss improved from 0.10677 to 0.10299, saving model to mnist.model.best.hdf5\n",
      "48000/48000 [==============================] - 2s - loss: 0.1081 - acc: 0.9675 - val_loss: 0.1030 - val_acc: 0.9713\n",
      "Epoch 7/10\n",
      "47800/48000 [============================>.] - ETA: 0s - loss: 0.0989 - acc: 0.9703Epoch 00006: val_loss improved from 0.10299 to 0.09867, saving model to mnist.model.best.hdf5\n",
      "48000/48000 [==============================] - 2s - loss: 0.0989 - acc: 0.9704 - val_loss: 0.0987 - val_acc: 0.9708\n",
      "Epoch 8/10\n",
      "47800/48000 [============================>.] - ETA: 0s - loss: 0.0909 - acc: 0.9726Epoch 00007: val_loss did not improve\n",
      "48000/48000 [==============================] - 2s - loss: 0.0909 - acc: 0.9726 - val_loss: 0.0988 - val_acc: 0.9733\n",
      "Epoch 9/10\n",
      "47900/48000 [============================>.] - ETA: 0s - loss: 0.0862 - acc: 0.9743Epoch 00008: val_loss improved from 0.09867 to 0.09752, saving model to mnist.model.best.hdf5\n",
      "48000/48000 [==============================] - 2s - loss: 0.0861 - acc: 0.9743 - val_loss: 0.0975 - val_acc: 0.9725\n",
      "Epoch 10/10\n",
      "47000/48000 [============================>.] - ETA: 0s - loss: 0.0826 - acc: 0.9750Epoch 00009: val_loss improved from 0.09752 to 0.09602, saving model to mnist.model.best.hdf5\n",
      "48000/48000 [==============================] - 2s - loss: 0.0825 - acc: 0.9750 - val_loss: 0.0960 - val_acc: 0.9730\n"
     ]
    },
    {
     "data": {
      "image/png": "[encoded data removed]",
      "text/plain": [
       "<matplotlib.figure.Figure at 0x11ecb08d0>"
      ]
     },
     "metadata": {},
     "output_type": "display_data"
    }
   ],
   "source": [
    "model = Sequential()\n",
    "model.add(Flatten(input_shape=x_train.shape[1:]))\n",
    "model.add(Dense(100, activation='relu'))\n",
    "model.add(Dropout(.2))\n",
    "# model.add(Dense(100, activation='relu'))\n",
    "# model.add(Dropout(.2))\n",
    "model.add(Dense(y_train.shape[1], activation='softmax'))\n",
    "\n",
    "checkpointer = ModelCheckpoint(filepath='mnist.model.best.hdf5',\n",
    "                               verbose=1, save_best_only=True)\n",
    "\n",
    "sgd = SGD(lr=0.01, momentum=0.9, decay=0.0, nesterov=True)\n",
    "rms = RMSprop(lr=0.001, rho=0.9, epsilon=1e-08, decay=0.0)\n",
    "model.compile(rms, loss='categorical_crossentropy', metrics=['accuracy'])\n",
    "EPOCHS = 10\n",
    "\n",
    "history = model.fit(normalize_features(x_train), y_train,\n",
    "                    batch_size=100, epochs=EPOCHS,\n",
    "                    validation_split=.2, callbacks=[checkpointer],\n",
    "                    verbose=1)\n",
    "plot_learning_curves(history, EPOCHS, y_min=0)"
   ]
  },
  {
   "cell_type": "code",
   "execution_count": 10,
   "metadata": {},
   "outputs": [
    {
     "data": {
      "image/png": "[encoded data removed]",
      "text/plain": [
       "<matplotlib.figure.Figure at 0x135f39908>"
      ]
     },
     "metadata": {},
     "output_type": "display_data"
    }
   ],
   "source": [
    "plot_learning_curves(history, EPOCHS, y_min=.9)"
   ]
  },
  {
   "cell_type": "code",
   "execution_count": 154,
   "metadata": {},
   "outputs": [],
   "source": [
    "model.load_weights('mnist.model.best.hdf5')"
   ]
  },
  {
   "cell_type": "code",
   "execution_count": 11,
   "metadata": {},
   "outputs": [
    {
     "name": "stdout",
     "output_type": "stream",
     "text": [
      " 9376/10000 [===========================>..] - ETA: 0s"
     ]
    },
    {
     "data": {
      "text/plain": [
       "{'acc': 0.97399999999999998, 'loss': 0.41615544418096545}"
      ]
     },
     "execution_count": 11,
     "metadata": {},
     "output_type": "execute_result"
    }
   ],
   "source": [
    "dict([i for i in zip(model.metrics_names, model.evaluate(x_test, y_test))])"
   ]
  },
  {
   "cell_type": "code",
   "execution_count": 184,
   "metadata": {},
   "outputs": [
    {
     "name": "stdout",
     "output_type": "stream",
     "text": [
      "1/1 [==============================] - 0s\n"
     ]
    },
    {
     "data": {
      "text/plain": [
       "array([[  1.10884044e-04,   2.96025682e-04,   4.04190086e-03,\n",
       "          1.42042001e-04,   8.39610075e-05,   1.85187382e-04,\n",
       "          9.94636238e-01,   4.46925987e-05,   4.20725293e-04,\n",
       "          3.84313171e-05]], dtype=float32)"
      ]
     },
     "execution_count": 184,
     "metadata": {},
     "output_type": "execute_result"
    }
   ],
   "source": [
    "model.predict_proba(normalize_features(x_test[100:101]))"
   ]
  },
  {
   "cell_type": "markdown",
   "metadata": {},
   "source": [
    "# Can we do the same thing with CNNs?"
   ]
  },
  {
   "cell_type": "markdown",
   "metadata": {},
   "source": [
    "### first try toy example from udacity"
   ]
  },
  {
   "cell_type": "code",
   "execution_count": 92,
   "metadata": {},
   "outputs": [
    {
     "data": {
      "text/plain": [
       "(28, 28)"
      ]
     },
     "execution_count": 92,
     "metadata": {},
     "output_type": "execute_result"
    }
   ],
   "source": [
    "(x_train.shape[1], x_train.shape[2], 1)"
   ]
  },
  {
   "cell_type": "code",
   "execution_count": 94,
   "metadata": {},
   "outputs": [
    {
     "name": "stdout",
     "output_type": "stream",
     "text": [
      "_________________________________________________________________\n",
      "Layer (type)                 Output Shape              Param #   \n",
      "=================================================================\n",
      "conv2d_66 (Conv2D)           (None, 14, 14, 10)        100       \n",
      "=================================================================\n",
      "Total params: 100.0\n",
      "Trainable params: 100\n",
      "Non-trainable params: 0.0\n",
      "_________________________________________________________________\n"
     ]
    }
   ],
   "source": [
    "from keras.models import Sequential\n",
    "from keras.layers import Conv2D\n",
    "\n",
    "model = Sequential()\n",
    "model.add(Conv2D(filters=10,\n",
    "                 kernel_size=3,\n",
    "                 strides=2,\n",
    "                 padding='same',\n",
    "                 activation='relu',\n",
    "                 input_shape=(x_train.shape[1], x_train.shape[2], 1)))\n",
    "model.summary()"
   ]
  },
  {
   "cell_type": "code",
   "execution_count": 87,
   "metadata": {},
   "outputs": [
    {
     "data": {
      "text/plain": [
       "896"
      ]
     },
     "execution_count": 87,
     "metadata": {},
     "output_type": "execute_result"
    }
   ],
   "source": [
    "filter_size = 3\n",
    "num_filters = 32\n",
    "prev_layer_depth = 3\n",
    "\n",
    "num_filters * filter_size ** 2 * prev_layer_depth + num_filters\n",
    "\n",
    "num_filters * (filter_size **2 * prev_layer_depth + 1)"
   ]
  },
  {
   "cell_type": "markdown",
   "metadata": {},
   "source": [
    "### Now try against mnist numbers"
   ]
  },
  {
   "cell_type": "code",
   "execution_count": 111,
   "metadata": {},
   "outputs": [
    {
     "data": {
      "text/plain": [
       "(60000, 28, 28)"
      ]
     },
     "execution_count": 111,
     "metadata": {},
     "output_type": "execute_result"
    }
   ],
   "source": [
    "x_train.shape"
   ]
  },
  {
   "cell_type": "code",
   "execution_count": 128,
   "metadata": {},
   "outputs": [],
   "source": [
    "from keras import backend as K"
   ]
  },
  {
   "cell_type": "code",
   "execution_count": 167,
   "metadata": {},
   "outputs": [
    {
     "data": {
      "text/plain": [
       "'channels_last'"
      ]
     },
     "execution_count": 167,
     "metadata": {},
     "output_type": "execute_result"
    }
   ],
   "source": [
    "K.image_data_format()"
   ]
  },
  {
   "cell_type": "code",
   "execution_count": 211,
   "metadata": {},
   "outputs": [
    {
     "name": "stdout",
     "output_type": "stream",
     "text": [
      "_________________________________________________________________\n",
      "Layer (type)                 Output Shape              Param #   \n",
      "=================================================================\n",
      "conv2d_179 (Conv2D)          (None, 14, 14, 10)        500       \n",
      "_________________________________________________________________\n",
      "dropout_32 (Dropout)         (None, 14, 14, 10)        0         \n",
      "_________________________________________________________________\n",
      "conv2d_180 (Conv2D)          (None, 7, 7, 20)          5020      \n",
      "_________________________________________________________________\n",
      "dropout_33 (Dropout)         (None, 7, 7, 20)          0         \n",
      "_________________________________________________________________\n",
      "conv2d_181 (Conv2D)          (None, 3, 3, 10)          5010      \n",
      "_________________________________________________________________\n",
      "flatten_30 (Flatten)         (None, 90)                0         \n",
      "_________________________________________________________________\n",
      "dense_58 (Dense)             (None, 10)                910       \n",
      "=================================================================\n",
      "Total params: 11,440.0\n",
      "Trainable params: 11,440.0\n",
      "Non-trainable params: 0.0\n",
      "_________________________________________________________________\n"
     ]
    }
   ],
   "source": [
    "model = Sequential()\n",
    "# model.add(Flatten(input_shape=x_train.shape[1:]))\n",
    "# model.add(Dense(100, activation='relu'))\n",
    "# model.add(Dropout(.2))\n",
    "# model.add(Dense(100, activation='relu'))\n",
    "# model.add(Dropout(.2))\n",
    "# model.add(Dense(y_train.shape[1], activation='softmax'))\n",
    "model.add(Conv2D(filters=10, kernel_size=7,\n",
    "                 strides=2, padding='same',\n",
    "                 activation='relu',\n",
    "                 input_shape=(x_train.shape[1], x_train.shape[2], 1),\n",
    "                 data_format='channels_last'))\n",
    "model.add(Dropout(.1))\n",
    "model.add(Conv2D(filters=20, kernel_size=5,\n",
    "                 strides=2, padding='same',\n",
    "                 activation='relu'))\n",
    "model.add(Dropout(.1))\n",
    "model.add(Conv2D(filters=10, kernel_size=5,\n",
    "                 strides=1, padding='valid',\n",
    "                 activation='relu'))\n",
    "model.add(Flatten())\n",
    "# model.add(Dense(10, activation='relu'))\n",
    "# model.add(Dropout(.5))\n",
    "model.add(Dense(10, activation='softmax'))\n",
    "model.summary()"
   ]
  },
  {
   "cell_type": "code",
   "execution_count": 212,
   "metadata": {},
   "outputs": [
    {
     "name": "stdout",
     "output_type": "stream",
     "text": [
      "Train on 48000 samples, validate on 12000 samples\n",
      "Epoch 1/10\n",
      "47000/48000 [============================>.] - ETA: 0s - loss: 1.1669 - acc: 0.6440Epoch 00000: val_loss improved from inf to 0.53375, saving model to mnist.model.bestconv2d.hdf5\n",
      "48000/48000 [==============================] - 16s - loss: 1.1562 - acc: 0.6471 - val_loss: 0.5337 - val_acc: 0.8462\n",
      "Epoch 2/10\n",
      "47000/48000 [============================>.] - ETA: 0s - loss: 0.5162 - acc: 0.8429Epoch 00001: val_loss improved from 0.53375 to 0.35255, saving model to mnist.model.bestconv2d.hdf5\n",
      "48000/48000 [==============================] - 15s - loss: 0.5149 - acc: 0.8435 - val_loss: 0.3525 - val_acc: 0.8937\n",
      "Epoch 3/10\n",
      "47000/48000 [============================>.] - ETA: 0s - loss: 0.3778 - acc: 0.8869Epoch 00002: val_loss improved from 0.35255 to 0.27235, saving model to mnist.model.bestconv2d.hdf5\n",
      "48000/48000 [==============================] - 15s - loss: 0.3765 - acc: 0.8873 - val_loss: 0.2723 - val_acc: 0.9186\n",
      "Epoch 4/10\n",
      "47000/48000 [============================>.] - ETA: 0s - loss: 0.2954 - acc: 0.9124Epoch 00003: val_loss improved from 0.27235 to 0.20541, saving model to mnist.model.bestconv2d.hdf5\n",
      "48000/48000 [==============================] - 15s - loss: 0.2946 - acc: 0.9125 - val_loss: 0.2054 - val_acc: 0.9413\n",
      "Epoch 5/10\n",
      "47000/48000 [============================>.] - ETA: 0s - loss: 0.2368 - acc: 0.9298Epoch 00004: val_loss improved from 0.20541 to 0.17205, saving model to mnist.model.bestconv2d.hdf5\n",
      "48000/48000 [==============================] - 16s - loss: 0.2367 - acc: 0.9299 - val_loss: 0.1721 - val_acc: 0.9490\n",
      "Epoch 6/10\n",
      "47000/48000 [============================>.] - ETA: 0s - loss: 0.1993 - acc: 0.9400Epoch 00005: val_loss improved from 0.17205 to 0.16210, saving model to mnist.model.bestconv2d.hdf5\n",
      "48000/48000 [==============================] - 15s - loss: 0.2003 - acc: 0.9395 - val_loss: 0.1621 - val_acc: 0.9522\n",
      "Epoch 7/10\n",
      "47000/48000 [============================>.] - ETA: 0s - loss: 0.1746 - acc: 0.9479Epoch 00006: val_loss improved from 0.16210 to 0.12785, saving model to mnist.model.bestconv2d.hdf5\n",
      "48000/48000 [==============================] - 16s - loss: 0.1741 - acc: 0.9479 - val_loss: 0.1278 - val_acc: 0.9614\n",
      "Epoch 8/10\n",
      "47000/48000 [============================>.] - ETA: 0s - loss: 0.1516 - acc: 0.9541Epoch 00007: val_loss did not improve\n",
      "48000/48000 [==============================] - 15s - loss: 0.1523 - acc: 0.9539 - val_loss: 0.1331 - val_acc: 0.9598\n",
      "Epoch 9/10\n",
      "47000/48000 [============================>.] - ETA: 0s - loss: 0.1375 - acc: 0.9585Epoch 00008: val_loss improved from 0.12785 to 0.10688, saving model to mnist.model.bestconv2d.hdf5\n",
      "48000/48000 [==============================] - 16s - loss: 0.1372 - acc: 0.9585 - val_loss: 0.1069 - val_acc: 0.9686\n",
      "Epoch 10/10\n",
      "47000/48000 [============================>.] - ETA: 0s - loss: 0.1255 - acc: 0.9634Epoch 00009: val_loss improved from 0.10688 to 0.09664, saving model to mnist.model.bestconv2d.hdf5\n",
      "48000/48000 [==============================] - 15s - loss: 0.1253 - acc: 0.9633 - val_loss: 0.0966 - val_acc: 0.9693\n"
     ]
    },
    {
     "data": {
      "image/png": "[encoded data removed]",
      "text/plain": [
       "<matplotlib.figure.Figure at 0x1249e77b8>"
      ]
     },
     "metadata": {},
     "output_type": "display_data"
    }
   ],
   "source": [
    "EPOCHS = 10\n",
    "checkpointer = ModelCheckpoint(filepath='mnist.model.bestconv2d.hdf5',\n",
    "                               verbose=1, save_best_only=True)\n",
    "sgd = SGD(lr=0.01, momentum=0.9, decay=0.0, nesterov=True)\n",
    "rms = RMSprop(lr=0.001, rho=0.9, epsilon=1e-08, decay=0.0)\n",
    "model.compile(rms, loss='categorical_crossentropy', metrics=['accuracy'])\n",
    "history = model.fit(normalize_features(x_train).reshape(60000, 28, 28, 1),\n",
    "                    y_train, batch_size=1000, epochs=EPOCHS,\n",
    "                    validation_split=.2, callbacks=[checkpointer],\n",
    "                    verbose=1)\n",
    "plot_learning_curves(history, EPOCHS, y_min=0)"
   ]
  },
  {
   "cell_type": "code",
   "execution_count": 213,
   "metadata": {},
   "outputs": [
    {
     "name": "stdout",
     "output_type": "stream",
     "text": [
      " 9856/10000 [============================>.] - ETA: 0s"
     ]
    },
    {
     "data": {
      "text/plain": [
       "[0.087898774483986197, 0.97270000000000001]"
      ]
     },
     "execution_count": 213,
     "metadata": {},
     "output_type": "execute_result"
    }
   ],
   "source": [
    "model.evaluate(normalize_features(x_test).reshape(10000, 28, 28, 1), y_test)"
   ]
  },
  {
   "cell_type": "code",
   "execution_count": 233,
   "metadata": {},
   "outputs": [],
   "source": [
    "def normalize_number(pixel_matrix):\n",
    "    normalized_features = normalize_features(pixel_matrix)\n",
    "    reshaped = normalized_features.reshape(1, 28, 28, 1)\n",
    "    return model.predict_classes(reshaped)"
   ]
  },
  {
   "cell_type": "code",
   "execution_count": 239,
   "metadata": {},
   "outputs": [],
   "source": [
    "num = 3222"
   ]
  },
  {
   "cell_type": "code",
   "execution_count": 240,
   "metadata": {},
   "outputs": [
    {
     "name": "stdout",
     "output_type": "stream",
     "text": [
      "1/1 [==============================] - 0s\n"
     ]
    },
    {
     "data": {
      "text/plain": [
       "array([6])"
      ]
     },
     "execution_count": 240,
     "metadata": {},
     "output_type": "execute_result"
    }
   ],
   "source": [
    "normalize_number(x_test[num])"
   ]
  },
  {
   "cell_type": "code",
   "execution_count": 241,
   "metadata": {},
   "outputs": [
    {
     "data": {
      "text/plain": [
       "<matplotlib.image.AxesImage at 0x12526cd30>"
      ]
     },
     "execution_count": 241,
     "metadata": {},
     "output_type": "execute_result"
    },
    {
     "data": {
      "image/png": "[encoded data removed]",
      "text/plain": [
       "<matplotlib.figure.Figure at 0x1251b6278>"
      ]
     },
     "metadata": {},
     "output_type": "display_data"
    }
   ],
   "source": [
    "plt.imshow(x_test[num], cmap='gray')"
   ]
  },
  {
   "cell_type": "markdown",
   "metadata": {},
   "source": [
    "### Let's visualize the different layers\n",
    "\n",
    "let's come back to this"
   ]
  },
  {
   "cell_type": "code",
   "execution_count": 249,
   "metadata": {},
   "outputs": [],
   "source": [
    "from keras import backend as K"
   ]
  },
  {
   "cell_type": "code",
   "execution_count": 242,
   "metadata": {},
   "outputs": [],
   "source": [
    "layer_dict = dict([(layer.name, layer) for layer in model.layers])"
   ]
  },
  {
   "cell_type": "code",
   "execution_count": 257,
   "metadata": {},
   "outputs": [
    {
     "data": {
      "text/plain": [
       "<keras.layers.core.Flatten at 0x124ad6080>"
      ]
     },
     "execution_count": 257,
     "metadata": {},
     "output_type": "execute_result"
    }
   ],
   "source": [
    "layer_dict.pop('dense_58')\n",
    "layer_dict.pop('dropout_32')\n",
    "layer_dict.pop('dropout_33')\n",
    "layer_dict.pop('flatten_30')"
   ]
  },
  {
   "cell_type": "code",
   "execution_count": 258,
   "metadata": {},
   "outputs": [
    {
     "data": {
      "text/plain": [
       "{'conv2d_179': <keras.layers.convolutional.Conv2D at 0x1246b4c88>,\n",
       " 'conv2d_180': <keras.layers.convolutional.Conv2D at 0x124985518>,\n",
       " 'conv2d_181': <keras.layers.convolutional.Conv2D at 0x124ad63c8>}"
      ]
     },
     "execution_count": 258,
     "metadata": {},
     "output_type": "execute_result"
    }
   ],
   "source": [
    "layer_dict"
   ]
  },
  {
   "cell_type": "code",
   "execution_count": 250,
   "metadata": {},
   "outputs": [],
   "source": [
    "layer_name = 'conv2d_179'\n",
    "filter_index = 0\n",
    "layer_output = layer_dict[layer_name].output\n",
    "loss = K.mean(layer_output[:, :, :, filter_index])\n",
    "# grads = K.gradients(loss, input_img)"
   ]
  },
  {
   "cell_type": "code",
   "execution_count": 255,
   "metadata": {},
   "outputs": [
    {
     "data": {
      "text/plain": [
       "<tf.Tensor 'conv2d_179/Relu:0' shape=(?, 14, 14, 10) dtype=float32>"
      ]
     },
     "execution_count": 255,
     "metadata": {},
     "output_type": "execute_result"
    }
   ],
   "source": []
  },
  {
   "cell_type": "code",
   "execution_count": null,
   "metadata": {},
   "outputs": [],
   "source": []
  },
  {
   "cell_type": "code",
   "execution_count": null,
   "metadata": {},
   "outputs": [],
   "source": []
  },
  {
   "cell_type": "code",
   "execution_count": null,
   "metadata": {},
   "outputs": [],
   "source": []
  },
  {
   "cell_type": "code",
   "execution_count": null,
   "metadata": {},
   "outputs": [],
   "source": []
  },
  {
   "cell_type": "code",
   "execution_count": null,
   "metadata": {},
   "outputs": [],
   "source": []
  },
  {
   "cell_type": "code",
   "execution_count": null,
   "metadata": {},
   "outputs": [],
   "source": []
  },
  {
   "cell_type": "code",
   "execution_count": null,
   "metadata": {},
   "outputs": [],
   "source": []
  },
  {
   "cell_type": "code",
   "execution_count": null,
   "metadata": {},
   "outputs": [],
   "source": []
  },
  {
   "cell_type": "code",
   "execution_count": null,
   "metadata": {},
   "outputs": [],
   "source": []
  },
  {
   "cell_type": "code",
   "execution_count": null,
   "metadata": {},
   "outputs": [],
   "source": []
  },
  {
   "cell_type": "code",
   "execution_count": null,
   "metadata": {},
   "outputs": [],
   "source": []
  },
  {
   "cell_type": "code",
   "execution_count": null,
   "metadata": {},
   "outputs": [],
   "source": []
  },
  {
   "cell_type": "code",
   "execution_count": null,
   "metadata": {},
   "outputs": [],
   "source": []
  },
  {
   "cell_type": "code",
   "execution_count": null,
   "metadata": {},
   "outputs": [],
   "source": []
  },
  {
   "cell_type": "code",
   "execution_count": null,
   "metadata": {},
   "outputs": [],
   "source": []
  },
  {
   "cell_type": "code",
   "execution_count": null,
   "metadata": {},
   "outputs": [],
   "source": []
  }
 ],
 "metadata": {
  "kernelspec": {
   "display_name": ".aind2-dl",
   "language": "python",
   "name": ".aind2-dl"
  },
  "language_info": {
   "codemirror_mode": {
    "name": "ipython",
    "version": 3
   },
   "file_extension": ".py",
   "mimetype": "text/x-python",
   "name": "python",
   "nbconvert_exporter": "python",
   "pygments_lexer": "ipython3",
   "version": "3.6.4"
  }
 },
 "nbformat": 4,
 "nbformat_minor": 2
}
